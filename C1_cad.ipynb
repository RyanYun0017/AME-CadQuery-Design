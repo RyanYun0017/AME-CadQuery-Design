{
 "cells": [
  {
   "cell_type": "code",
   "execution_count": 152,
   "metadata": {},
   "outputs": [],
   "source": [
    "import cadquery as cq\n",
    "from cadquery import Workplane, Assembly, Location, Vector, Color, exporters\n",
    "# from cq_server.ui import ui, show_object\n",
    "# from ocp_vscode import *\n",
    "\n",
    "from ocp_vscode import show, show_object, reset_show, set_port, set_defaults, get_defaults\n",
    "set_port(3939)"
   ]
  },
  {
   "cell_type": "code",
   "execution_count": 153,
   "metadata": {},
   "outputs": [
    {
     "name": "stdout",
     "output_type": "stream",
     "text": [
      "c\n"
     ]
    }
   ],
   "source": [
    "um = 0.001\n",
    "reset_show()\n",
    "wp = Workplane(\"XY\")\n",
    "bar_width = 300*um\n",
    "bar_length = 2000*um\n",
    "bar_thickness = 20*um\n",
    "gap = 2000*um\n",
    "\n",
    "top_bar_width = 2300*um\n",
    "top_bar_length = 300*um\n",
    "\n",
    "c_bridge_width = 300*um\n",
    "c_bridge_length = 450*um\n",
    "\n",
    "c_pad_width = 700*um # This is a parameter\n",
    "\n",
    "signal_pad_length = 550*um\n",
    "\n",
    "via_r = (c_bridge_width/2)\n",
    "via_thickness = 200*um # This is a parameter\n",
    "\n",
    "left_bar = (\n",
    "    wp.rect(bar_width, bar_length,centered=False)\n",
    "    .extrude(bar_thickness)\n",
    ")\n",
    "right_bar = (\n",
    "    wp.move(gap, 0)\n",
    "    .rect(bar_width, bar_length,centered=False)\n",
    "    .extrude(bar_thickness)\n",
    ")\n",
    "top_bar = (\n",
    "    wp.moveTo(0,0)\n",
    "    .move(0,bar_length)\n",
    "    .rect(top_bar_width,top_bar_length,centered=False)\n",
    "    .extrude(bar_thickness)\n",
    ")\n",
    "c_bridge = (\n",
    "    wp.move(gap/2,bar_length)\n",
    "    .rect(c_bridge_width,-c_bridge_length,centered=False)\n",
    "    .extrude(bar_thickness)\n",
    ")\n",
    "c_pad = (\n",
    "    wp.moveTo((top_bar_width/2),(bar_length - c_bridge_length)-c_pad_width/2)\n",
    "    .rect(c_pad_width,c_pad_width,centered=True)\n",
    "    .extrude(bar_thickness)\n",
    "\n",
    ")\n",
    "\n",
    "result = (\n",
    "    left_bar\n",
    "    .union(right_bar)\n",
    "    .union(top_bar)\n",
    "    .union(c_bridge)\n",
    "    .union(c_pad)\n",
    ")\n",
    "\n",
    "show_object(result, name=\"test\")"
   ]
  },
  {
   "cell_type": "markdown",
   "metadata": {},
   "source": [
    "# The Bottom CI Signal Pad and Connection"
   ]
  },
  {
   "cell_type": "code",
   "execution_count": 154,
   "metadata": {},
   "outputs": [
    {
     "name": "stdout",
     "output_type": "stream",
     "text": [
      "cc\n"
     ]
    }
   ],
   "source": [
    "\n",
    "signal_pad = (\n",
    "    wp.move(gap/2,0)\n",
    "    .rect(bar_width,signal_pad_length,centered=False)\n",
    "    .extrude(bar_thickness)\n",
    ")\n",
    "\n",
    "show_object(signal_pad, name=\"signal_pad\")\n",
    "\n"
   ]
  },
  {
   "cell_type": "markdown",
   "metadata": {},
   "source": [
    "# Make the via "
   ]
  },
  {
   "cell_type": "code",
   "execution_count": 155,
   "metadata": {},
   "outputs": [
    {
     "name": "stdout",
     "output_type": "stream",
     "text": [
      "ccc\n"
     ]
    }
   ],
   "source": [
    "via = (\n",
    "    wp.moveTo((top_bar_width/2),signal_pad_length)\n",
    "    .circle(via_r)\n",
    "    .extrude(via_thickness+bar_thickness)\n",
    ")\n",
    "show_object(via, name=\"via\")"
   ]
  },
  {
   "cell_type": "markdown",
   "metadata": {},
   "source": [
    "# The top electrode and connector"
   ]
  },
  {
   "cell_type": "code",
   "execution_count": 156,
   "metadata": {},
   "outputs": [
    {
     "name": "stdout",
     "output_type": "stream",
     "text": [
      "cccc"
     ]
    },
    {
     "name": "stdout",
     "output_type": "stream",
     "text": [
      "\n",
      "ccccc\n"
     ]
    }
   ],
   "source": [
    "top_electrode = (\n",
    "    wp.workplane(offset=200*um)\n",
    "    .moveTo((top_bar_width/2),(bar_length - c_bridge_length)-c_pad_width/2)\n",
    "    .rect(c_pad_width, c_pad_width, centered=True)\n",
    "    .extrude(bar_thickness)\n",
    ")\n",
    "show_object(top_electrode, name=\"top_electrode\")\n",
    "\n",
    "top_connector = (\n",
    "    wp.workplane(offset=200*um)\n",
    "    .moveTo((top_bar_width/2 -c_bridge_width/2 ),(bar_length - c_bridge_length - c_pad_width))\n",
    "    .rect(c_bridge_width,-(bar_length-c_bridge_length-c_pad_width-signal_pad_length),centered=False)\n",
    "    .extrude(bar_thickness)\n",
    ")\n",
    "show_object(top_connector, name=\"top_connector\")"
   ]
  },
  {
   "cell_type": "markdown",
   "metadata": {},
   "source": [
    "# The DI Layer"
   ]
  },
  {
   "cell_type": "code",
   "execution_count": 157,
   "metadata": {},
   "outputs": [
    {
     "name": "stdout",
     "output_type": "stream",
     "text": [
      "ccccc+"
     ]
    },
    {
     "name": "stdout",
     "output_type": "stream",
     "text": [
      "\n"
     ]
    }
   ],
   "source": [
    "# DI Starts at XY plane\n",
    "# DI's reference point is at the top left corner of the c_pad\n",
    "c_pad_tl = (\n",
    "    c_pad.faces(\">Z\")\n",
    "    .vertices(\"<X and >Y\")\n",
    "    .val()\n",
    "    .Center()\n",
    ")\n",
    "DI = (\n",
    "    wp.moveTo(c_pad_tl.x - 100*um, c_pad_tl.y + 100*um)\n",
    "    .rect(c_pad_width+200*um,-(bar_length - c_bridge_length - bar_width),centered=False)\n",
    "    .extrude(via_thickness)\n",
    ")\n",
    "\n",
    "show_object(DI, name=\"DI\")"
   ]
  },
  {
   "cell_type": "code",
   "execution_count": 158,
   "metadata": {},
   "outputs": [
    {
     "data": {
      "application/javascript": "\n\nfunction render(data, parent_element, ratio){\n    \n    // Initial setup\n    const renderWindow = vtk.Rendering.Core.vtkRenderWindow.newInstance();\n    const renderer = vtk.Rendering.Core.vtkRenderer.newInstance({ background: [1, 1, 1 ] });\n    renderWindow.addRenderer(renderer);\n        \n    // iterate over all children children\n    for (var el of data){ \n        var trans = el.position;\n        var rot = el.orientation;\n        var rgba = el.color;\n        var shape = el.shape;\n        \n        // load the inline data\n        var reader = vtk.IO.XML.vtkXMLPolyDataReader.newInstance();\n        const textEncoder = new TextEncoder();\n        reader.parseAsArrayBuffer(textEncoder.encode(shape));\n\n        // setup actor,mapper and add\n        const mapper = vtk.Rendering.Core.vtkMapper.newInstance();\n        mapper.setInputConnection(reader.getOutputPort());\n        mapper.setResolveCoincidentTopologyToPolygonOffset();\n        mapper.setResolveCoincidentTopologyPolygonOffsetParameters(0.9,20);\n\n        const actor = vtk.Rendering.Core.vtkActor.newInstance();\n        actor.setMapper(mapper);\n\n        // set color and position\n        actor.getProperty().setColor(rgba.slice(0,3));\n        actor.getProperty().setOpacity(rgba[3]);\n        \n        actor.rotateZ(rot[2]*180/Math.PI);\n        actor.rotateY(rot[1]*180/Math.PI);\n        actor.rotateX(rot[0]*180/Math.PI);\n        \n        actor.setPosition(trans);\n\n        renderer.addActor(actor);\n\n    };\n    \n    renderer.resetCamera();\n    \n    const openglRenderWindow = vtk.Rendering.OpenGL.vtkRenderWindow.newInstance();\n    renderWindow.addView(openglRenderWindow);\n\n    // Add output to the \"parent element\"\n    var container;\n    var dims;\n    \n    if(typeof(parent_element.appendChild) !== \"undefined\"){\n        container = document.createElement(\"div\");\n        parent_element.appendChild(container);\n        dims = parent_element.getBoundingClientRect();\n    }else{\n        container = parent_element.append(\"<div/>\").children(\"div:last-child\").get(0);\n        dims = parent_element.get(0).getBoundingClientRect();\n    };\n\n    openglRenderWindow.setContainer(container);\n    \n    // handle size\n    if (ratio){\n        openglRenderWindow.setSize(dims.width, dims.width*ratio);\n    }else{\n        openglRenderWindow.setSize(dims.width, dims.height);\n    };\n    \n    // Interaction setup\n    const interact_style = vtk.Interaction.Style.vtkInteractorStyleManipulator.newInstance();\n\n    const manips = {\n        rot: vtk.Interaction.Manipulators.vtkMouseCameraTrackballRotateManipulator.newInstance(),\n        pan: vtk.Interaction.Manipulators.vtkMouseCameraTrackballPanManipulator.newInstance(),\n        zoom1: vtk.Interaction.Manipulators.vtkMouseCameraTrackballZoomManipulator.newInstance(),\n        zoom2: vtk.Interaction.Manipulators.vtkMouseCameraTrackballZoomManipulator.newInstance(),\n        roll: vtk.Interaction.Manipulators.vtkMouseCameraTrackballRollManipulator.newInstance(),\n    };\n\n    manips.zoom1.setControl(true);\n    manips.zoom2.setScrollEnabled(true);\n    manips.roll.setShift(true);\n    manips.pan.setButton(2);\n\n    for (var k in manips){\n        interact_style.addMouseManipulator(manips[k]);\n    };\n\n    const interactor = vtk.Rendering.Core.vtkRenderWindowInteractor.newInstance();\n    interactor.setView(openglRenderWindow);\n    interactor.initialize();\n    interactor.bindEvents(container);\n    interactor.setInteractorStyle(interact_style);\n\n    // Orientation marker\n\n    const axes = vtk.Rendering.Core.vtkAnnotatedCubeActor.newInstance();\n    axes.setXPlusFaceProperty({text: '+X'});\n    axes.setXMinusFaceProperty({text: '-X'});\n    axes.setYPlusFaceProperty({text: '+Y'});\n    axes.setYMinusFaceProperty({text: '-Y'});\n    axes.setZPlusFaceProperty({text: '+Z'});\n    axes.setZMinusFaceProperty({text: '-Z'});\n\n    const orientationWidget = vtk.Interaction.Widgets.vtkOrientationMarkerWidget.newInstance({\n        actor: axes,\n        interactor: interactor });\n    orientationWidget.setEnabled(true);\n    orientationWidget.setViewportCorner(vtk.Interaction.Widgets.vtkOrientationMarkerWidget.Corners.BOTTOM_LEFT);\n    orientationWidget.setViewportSize(0.2);\n\n};\n\n\nnew Promise(\n  function(resolve, reject)\n  {\n    if (typeof(require) !== \"undefined\" ){\n        require.config({\n         \"paths\": {\"vtk\": \"https://unpkg.com/vtk\"},\n        });\n        require([\"vtk\"], resolve, reject);\n    } else if ( typeof(vtk) === \"undefined\" ){\n        var script = document.createElement(\"script\");\n    \tscript.onload = resolve;\n    \tscript.onerror = reject;\n    \tscript.src = \"https://unpkg.com/vtk.js\";\n    \tdocument.head.appendChild(script);\n    } else { resolve() };\n }\n).then(() => {\n    var parent_element = element;\n    var data = [{\"shape\": \"<?xml version=\\\"1.0\\\"?>\\n<VTKFile type=\\\"PolyData\\\" version=\\\"0.1\\\" byte_order=\\\"LittleEndian\\\" header_type=\\\"UInt32\\\" compressor=\\\"vtkZLibDataCompressor\\\">\\n  <PolyData>\\n    <Piece NumberOfPoints=\\\"416\\\"                  NumberOfVerts=\\\"32\\\"                   NumberOfLines=\\\"144\\\"                  NumberOfStrips=\\\"0\\\"                    NumberOfPolys=\\\"60\\\"                  >\\n      <PointData Normals=\\\"Normals\\\">\\n        <DataArray type=\\\"Float32\\\" Name=\\\"Normals\\\" NumberOfComponents=\\\"3\\\" format=\\\"appended\\\" RangeMin=\\\"0\\\"                    RangeMax=\\\"1\\\"                    offset=\\\"0\\\"                   />\\n      </PointData>\\n      <CellData Normals=\\\"Normals\\\">\\n        <DataArray type=\\\"Int64\\\" IdType=\\\"1\\\" Name=\\\"SUBSHAPE_IDS\\\" format=\\\"appended\\\" RangeMin=\\\"5\\\"                    RangeMax=\\\"119\\\"                  offset=\\\"124\\\"                 />\\n        <DataArray type=\\\"Int64\\\" IdType=\\\"1\\\" Name=\\\"MESH_TYPES\\\" format=\\\"appended\\\" RangeMin=\\\"2\\\"                    RangeMax=\\\"7\\\"                    offset=\\\"440\\\"                 />\\n        <DataArray type=\\\"Float32\\\" Name=\\\"Normals\\\" NumberOfComponents=\\\"3\\\" format=\\\"appended\\\" RangeMin=\\\"1\\\"                    RangeMax=\\\"1\\\"                    offset=\\\"504\\\"                 />\\n      </CellData>\\n      <Points>\\n        <DataArray type=\\\"Float32\\\" Name=\\\"Points\\\" NumberOfComponents=\\\"3\\\" format=\\\"appended\\\" RangeMin=\\\"0\\\"                    RangeMax=\\\"3.252752613\\\"          offset=\\\"656\\\"                 />\\n      </Points>\\n      <Verts>\\n        <DataArray type=\\\"Int64\\\" Name=\\\"connectivity\\\" format=\\\"appended\\\" RangeMin=\\\"\\\"                     RangeMax=\\\"\\\"                     offset=\\\"1368\\\"                />\\n        <DataArray type=\\\"Int64\\\" Name=\\\"offsets\\\" format=\\\"appended\\\" RangeMin=\\\"\\\"                     RangeMax=\\\"\\\"                     offset=\\\"1480\\\"                />\\n      </Verts>\\n      <Lines>\\n        <DataArray type=\\\"Int64\\\" Name=\\\"connectivity\\\" format=\\\"appended\\\" RangeMin=\\\"\\\"                     RangeMax=\\\"\\\"                     offset=\\\"1592\\\"                />\\n        <DataArray type=\\\"Int64\\\" Name=\\\"offsets\\\" format=\\\"appended\\\" RangeMin=\\\"\\\"                     RangeMax=\\\"\\\"                     offset=\\\"2272\\\"                />\\n      </Lines>\\n      <Strips>\\n        <DataArray type=\\\"Int64\\\" Name=\\\"connectivity\\\" format=\\\"appended\\\" RangeMin=\\\"\\\"                     RangeMax=\\\"\\\"                     offset=\\\"2664\\\"                />\\n        <DataArray type=\\\"Int64\\\" Name=\\\"offsets\\\" format=\\\"appended\\\" RangeMin=\\\"\\\"                     RangeMax=\\\"\\\"                     offset=\\\"2680\\\"                />\\n      </Strips>\\n      <Polys>\\n        <DataArray type=\\\"Int64\\\" Name=\\\"connectivity\\\" format=\\\"appended\\\" RangeMin=\\\"\\\"                     RangeMax=\\\"\\\"                     offset=\\\"2696\\\"                />\\n        <DataArray type=\\\"Int64\\\" Name=\\\"offsets\\\" format=\\\"appended\\\" RangeMin=\\\"\\\"                     RangeMax=\\\"\\\"                     offset=\\\"3084\\\"                />\\n      </Polys>\\n    </Piece>\\n  </PolyData>\\n  <AppendedData encoding=\\\"base64\\\">\\n   _AQAAAACAAACAEwAASgAAAA==eJzt0tEJACAIhGE3a7U2a7XACTrhQvD/nu6hRK0IAAAAAACm2Oc9K2czLy1XemqZxbk7ZWvtD//H+bbqPbl+ZV7j/r39X8biYaE=AQAAAACAAABgBwAA2QAAAA==eJzF0kcvhAEYhVEb0YkaNZgZRu8teu9dCCGEkBFiQkb4+xbO/l1+d3N+wH1Ki/5XxgpWso71bGEru5hihr3s4wCHOMIxTnCKM1zgEle4xg1ucYd7POART3jGEpazitWsZQMb2cw2trOT3Uyzh1n2c5DDHOU4JznNWc5zkctc5To3uc1d7vOQxzzlOS95zVve85HPzPGNH/xkgT8sDqwJbArsSNi5hL0IvAq8CbwLfAh8CnwJfA18D8wHfgV+B/4GRr0n3XPSvUY9Rr1FPUW9RD1Ef/8BctQ6uQ==AQAAAACAAABgBwAAHgAAAA==eJxjYoAAphFKs47So/QoPUoPEM0+Sg9rGgD2wgS1AQAAAACAAAAQCwAAXwAAAA==eJxjYGiwZ4CDUfYoe5Q9yh5lj7JH2aNsYthg/n4YA8puwCJGhDkoZg12NsjtDUhsYsRxqSHVHGLMRxZrwKEWSRyvP7GYgaKuARHvuMRxpQec6vGlN3zup8h8AJ3ny5U=AQAAAACAAACAEwAABAIAAA==eJztV7ttwzAQZZ02o7gNIg+QBbKA5vAachvAc6RKFdVZJ6alE56e7h1JIYBTmEDg58sjdb7PO2r8fuvOw3uXrmuc8dPPx0tKn4vdcLZnTt9/LfyMjW92w9ne95fFnvH14zhxbp+Ib+tweF5h/p5onYfhlfDMOXWI0Qf0LXMm/yd/AKeM7ZmG89/MSYiNY/4AnjmnDrH5MO6IP9vV3ihfbMdz2Lcov+wncngvn6Nqo6FmECfGqpZaa0zZndpDfGSsalLZMUdeT3ENN9T2ps5TUPOIreajXvD6ArHTI5t+qemdqKeQg3FWusRnYl4wnsZnPzHXGOf5Z29iDvZVnC1+HHOzc5xxD8YZF8YZ/Ez31h9v7x5d8vz8K71Svzc656FvE27RtyjvXl2V5stDJ9t0UvdXXb5Yb2t1OOoXX5/9/Op+V8/1db5UtxxPNReU/yUd4N8V9Zfnv6oHNaca9GfF5x5RcVDngM3sSfCRI/uRz1HzFPmkeZu90fyN9NZ7bkkf+HzvLOYjp6QzfA5jiM9meXY1R4yv7hvIQ463NzpH1XNhTm30s2XWGCe6z9TcGdTMQh+8vaV7RbrTO7U3u6MZ/R/fwb15sX7/Unw/L3pOxfOIZ1NpvvCsUflScVD1U7oXIb9GkxGru5PlU+ktcnDvHg1EXKOBuGo0CrG6s+X//QJGb4RtAQAAAACAAAAAAQAAQAAAAA==eJwtxbUBgwAAADDcrUVa/P8vGUiWBMErdOTYiVNnzl24dOXajVt37j34469HT569+Oe/V2/effj05dsPq4AB8Q==AQAAAACAAAAAAQAAQgAAAA==eJwtxUcCQwAAADB7F63Rosb/X+kguSQMHpFjJ06dOXfh0pVrN365defeb388ePTk2V//vHj15r93Hz59+Qa8AAIRAQAAAACAAAAACQAA7AEAAA==eJwtxVWACAYAAFDT3camr487nRc6xnTnTMzkmGamu5mN6d50bGITwzTD1HRPdw/Dh/d+Xo447+V0gAMd5GCHONRhDncu53aEI53HeZ3P+V3ABV3IhV3ERV3MxR3laMc41iVc0qVc2mVc1uVc3hVc0Z+4kiv7U1dxVVdzdddwTddybddxXddzfTdwQzdyYzdxU3/mZv7czd3CLd3KX7i1v3Qbt3U7t3cHd/RX7uTO/tpd3NXd3N093NO93Nt9/I37+lv3c38P8EAP8mAP8VAP83CP8EiP8miP8ViP83hP8ERP8nee7O/9g6d4qn/0NE/3DM/0LM/2HM/1PM/3Ai/0Iv/kn73YS7zUy7zcK7zSq7zaa/yLf/Var/N6b/Bv/t0bvcmbvcV/eKu3ebv/9A7v9C7v9h7v9T7v9wH/5YM+5MP+20d81Md83Cf8j0/6lE/7jM/6nM/7gi/6ki/7iq/6X1/zdd/wTd/ybd/xXd/zfT/wQz/yYz/xUz/zc7/wf37pV37t//3Gbx3nAzmu4zm+EzihEzmxkzipkzm5UzilUzm10zit0zm9M/hDZ3Qmf+SPndlZnNXZnN05nNMBDnSQgx3iUIc53Lmc2xGOdB7ndT7ndwEXdCEXdhEXdTEXd5SjHeNYl3BJvwP6aYWxAQAAAACAAACABAAAEgEAAA==eJwtxVFEHAAAANDKyUmSnCQnJ0mSJJMkSZIkSTKTJEmSTDJJkiRJkiRJkiRJkkwmSZIkSWaSJElmkkwymZn00Xs/LybqXcCxDjrO8U5wopMccrJTnOqw0xxxujOc6SxnO8e5znO+P7jAhS5ysUtc6jKXu8KVrnK1a1zrOtf7oz+5wY1ucrNb3Oo2t7vDnf7sLnf7i3vc6z73e8CDHvKwRzzqMY97wpOe8rRnPOs5z3vBi17ysle86jWve8Ob/uotf/O2d7zrPe/7wIc+8rFPfOozf/cPn/vCl77ytW986zv/9C/f+8GP/u0nP/uPX/zX//zfr46Kfi/GAcc66DjHO8GJTnLIyU5xqsNOc8RvUzBAog==AAAAAACAAAAAAAAAAAAAAACAAAAAAAAAAQAAAACAAACgBQAADwEAAA==eJxd0NVSw2AURWF4M6C4hUILFJcCbXF3d3e3V2WGWedm5eabs/cvSVLlZf9PJVZgCqvU12ENViuvVd+EDVivvFF9N3ZiFnuwGXsxwRb1iebYn9M9WeWJ1rfq/OjbNMf+DKa1LvIO9Wnl7Vqf03tmdG70Xfpv8X0FHMNxLOEk9uGg5n7lJfVFnV9QXtL+Ac1x/pD2RZ9XP6w85lHNI8rzes+i8qLumdD3xH+bxhmcUj6rfh4XcE75ovpVXMJl5TGv4Cau4brymDdwG3dwS/mu+n08wD3lh+pP8RiPlJ+ov8RzPFN+of4Kb/FG+bX6R7zHO+UP6l/xGZ+Uv6j/xHd8U/6h/he/8Uv5j/o/kVpMVA==AQAAAACAAADgAQAAgAAAAA==eJwtxcEGQgEAALCIiIiIiIiIiIiIiIiIiIh4RERERERERERERERERET0gR3aLguH/iKOOua4E0465bQzzjrnvAsuuuSyK6665robbrrltjvuuue+Bw489MhjTzz1zHMvvPTKa2+89c57H3z0yWdffPXNdz/89Mtvf/z1D9xDFXM=\\n  </AppendedData>\\n</VTKFile>\\n\", \"color\": [1.0, 1.0, 1.0, 1.0], \"position\": [0.0, 0.0, 0.0], \"orientation\": [0.0, -0.0, 0.0]}, {\"shape\": \"<?xml version=\\\"1.0\\\"?>\\n<VTKFile type=\\\"PolyData\\\" version=\\\"0.1\\\" byte_order=\\\"LittleEndian\\\" header_type=\\\"UInt32\\\" compressor=\\\"vtkZLibDataCompressor\\\">\\n  <PolyData>\\n    <Piece NumberOfPoints=\\\"104\\\"                  NumberOfVerts=\\\"8\\\"                    NumberOfLines=\\\"36\\\"                   NumberOfStrips=\\\"0\\\"                    NumberOfPolys=\\\"12\\\"                  >\\n      <PointData Normals=\\\"Normals\\\">\\n        <DataArray type=\\\"Float32\\\" Name=\\\"Normals\\\" NumberOfComponents=\\\"3\\\" format=\\\"appended\\\" RangeMin=\\\"0\\\"                    RangeMax=\\\"1\\\"                    offset=\\\"0\\\"                   />\\n      </PointData>\\n      <CellData Normals=\\\"Normals\\\">\\n        <DataArray type=\\\"Int64\\\" IdType=\\\"1\\\" Name=\\\"SUBSHAPE_IDS\\\" format=\\\"appended\\\" RangeMin=\\\"4\\\"                    RangeMax=\\\"34\\\"                   offset=\\\"76\\\"                  />\\n        <DataArray type=\\\"Int64\\\" IdType=\\\"1\\\" Name=\\\"MESH_TYPES\\\" format=\\\"appended\\\" RangeMin=\\\"2\\\"                    RangeMax=\\\"7\\\"                    offset=\\\"200\\\"                 />\\n        <DataArray type=\\\"Float32\\\" Name=\\\"Normals\\\" NumberOfComponents=\\\"3\\\" format=\\\"appended\\\" RangeMin=\\\"1\\\"                    RangeMax=\\\"1\\\"                    offset=\\\"256\\\"                 />\\n      </CellData>\\n      <Points>\\n        <DataArray type=\\\"Float32\\\" Name=\\\"Points\\\" NumberOfComponents=\\\"3\\\" format=\\\"appended\\\" RangeMin=\\\"1\\\"                    RangeMax=\\\"1.4117010622\\\"         offset=\\\"340\\\"                 />\\n      </Points>\\n      <Verts>\\n        <DataArray type=\\\"Int64\\\" Name=\\\"connectivity\\\" format=\\\"appended\\\" RangeMin=\\\"\\\"                     RangeMax=\\\"\\\"                     offset=\\\"556\\\"                 />\\n        <DataArray type=\\\"Int64\\\" Name=\\\"offsets\\\" format=\\\"appended\\\" RangeMin=\\\"\\\"                     RangeMax=\\\"\\\"                     offset=\\\"620\\\"                 />\\n      </Verts>\\n      <Lines>\\n        <DataArray type=\\\"Int64\\\" Name=\\\"connectivity\\\" format=\\\"appended\\\" RangeMin=\\\"\\\"                     RangeMax=\\\"\\\"                     offset=\\\"684\\\"                 />\\n        <DataArray type=\\\"Int64\\\" Name=\\\"offsets\\\" format=\\\"appended\\\" RangeMin=\\\"\\\"                     RangeMax=\\\"\\\"                     offset=\\\"884\\\"                 />\\n      </Lines>\\n      <Strips>\\n        <DataArray type=\\\"Int64\\\" Name=\\\"connectivity\\\" format=\\\"appended\\\" RangeMin=\\\"\\\"                     RangeMax=\\\"\\\"                     offset=\\\"1020\\\"                />\\n        <DataArray type=\\\"Int64\\\" Name=\\\"offsets\\\" format=\\\"appended\\\" RangeMin=\\\"\\\"                     RangeMax=\\\"\\\"                     offset=\\\"1036\\\"                />\\n      </Strips>\\n      <Polys>\\n        <DataArray type=\\\"Int64\\\" Name=\\\"connectivity\\\" format=\\\"appended\\\" RangeMin=\\\"\\\"                     RangeMax=\\\"\\\"                     offset=\\\"1052\\\"                />\\n        <DataArray type=\\\"Int64\\\" Name=\\\"offsets\\\" format=\\\"appended\\\" RangeMin=\\\"\\\"                     RangeMax=\\\"\\\"                     offset=\\\"1172\\\"                />\\n      </Polys>\\n    </Piece>\\n  </PolyData>\\n  <AppendedData encoding=\\\"base64\\\">\\n   _AQAAAACAAADgBAAAJwAAAA==eJxjYBgFo2AUDG3QsJ94doM9khgRbFL1kOIWFDtI1EecmwCcOxfpAQAAAACAAADAAQAASQAAAA==eJyFzjcOgDAABEEKRAYRjGyCAPH/R1Kw/V4z5W2Z/auwwRYnnDHhhgXW2GGPIy4YMOKOB154Yy4O4iqe4iO+ovVaj/19eGUEfw==AQAAAACAAADAAQAAFgAAAA==eJxjYoAAJjJp1lEaL81OYxoA2KABGQ==AQAAAACAAACgAgAALAAAAA==eJxjYGiwZ4CDUfYoG8zfD2NA2Q0E1NsjqbfHYQYaQBZDYdtD9EDYAPtwL0k=AQAAAACAAADgBAAAjgAAAA==eJxjYGiwZ4ADCJvr+mKbtLRlcHEYGyZ+9gyPPUwcxAaJg/TCxGFsmDgp5iOrR1aDTS8+96Cbj6wGXS8+9yPrRVaDTS82c5Ddjx4m9AofUuKR1HAjNT1QGp6E0hUl4Y8trLCFAzb347MXX7zgCk9c4UBq+sGVBkiNU1LjiNgwxxf++MIWXxgi2wsA0tI8IA==AQAAAACAAABAAAAAHgAAAA==eJxjYIAARijNBKWZoTQLlGaF0mxQmh1KAwAC4AAdAQAAAACAAABAAAAAHgAAAA==eJxjZIAAJijNDKVZoDQrlGaD0uxQmgNKAwAEAAAlAQAAAACAAABAAgAAgwAAAA==eJwtxcdCAQAAAFBHIwmRERIZZZYdpYyU0f//jYP3Li8YuAg57IivHPW1Y75x3AknfeuU075zxlnnnPe9Cy665AeX/eiKq35yzXU33PSzX9xy2x133XPfr37zwEOPPPbEU8/87rkX/vCnl/7yt1dee+Otf7zzr/+898FHn/zvMyt2DD0=AQAAAACAAAAgAQAAUgAAAA==eJwtxdEGgwAAAMDJJJNJkkkyM0kyk8kkk0n6/y/qobuXC06Hs0NHvjj21YlTZ859c+HSle9++OnajVt3fvnt3h8P/nr05J9n/7149eYdEH4FNQ==AAAAAACAAAAAAAAAAAAAAACAAAAAAAAAAQAAAACAAAAgAQAARwAAAA==eJxdybkVgDAQxFBKBMx9GJuz/w4IEIk2+W9HofiuwhID1uo9ttho79RnHHHQPqlvuOKiParvmDFp//8Dbzzx0v6ovyX5DOE=AQAAAACAAABgAAAAKAAAAA==eJxjZoAANijNCaV5oDQ/lBaC0qJQWgJKS0NpOSitCKVVoDQAIoAA6w==\\n  </AppendedData>\\n</VTKFile>\\n\", \"color\": [1.0, 1.0, 1.0, 1.0], \"position\": [0.0, 0.0, 0.0], \"orientation\": [0.0, -0.0, 0.0]}, {\"shape\": \"<?xml version=\\\"1.0\\\"?>\\n<VTKFile type=\\\"PolyData\\\" version=\\\"0.1\\\" byte_order=\\\"LittleEndian\\\" header_type=\\\"UInt32\\\" compressor=\\\"vtkZLibDataCompressor\\\">\\n  <PolyData>\\n    <Piece NumberOfPoints=\\\"1276\\\"                 NumberOfVerts=\\\"2\\\"                    NumberOfLines=\\\"759\\\"                  NumberOfStrips=\\\"0\\\"                    NumberOfPolys=\\\"500\\\"                 >\\n      <PointData Normals=\\\"Normals\\\">\\n        <DataArray type=\\\"Float32\\\" Name=\\\"Normals\\\" NumberOfComponents=\\\"3\\\" format=\\\"appended\\\" RangeMin=\\\"0\\\"                    RangeMax=\\\"1.0000000635\\\"         offset=\\\"0\\\"                   />\\n      </PointData>\\n      <CellData Normals=\\\"Normals\\\">\\n        <DataArray type=\\\"Int64\\\" IdType=\\\"1\\\" Name=\\\"SUBSHAPE_IDS\\\" format=\\\"appended\\\" RangeMin=\\\"4\\\"                    RangeMax=\\\"13\\\"                   offset=\\\"2464\\\"                />\\n        <DataArray type=\\\"Int64\\\" IdType=\\\"1\\\" Name=\\\"MESH_TYPES\\\" format=\\\"appended\\\" RangeMin=\\\"2\\\"                    RangeMax=\\\"8\\\"                    offset=\\\"2584\\\"                />\\n        <DataArray type=\\\"Float32\\\" Name=\\\"Normals\\\" NumberOfComponents=\\\"3\\\" format=\\\"appended\\\" RangeMin=\\\"0.99999996153\\\"        RangeMax=\\\"1.0000000301\\\"         offset=\\\"2684\\\"                />\\n      </CellData>\\n      <Points>\\n        <DataArray type=\\\"Float32\\\" Name=\\\"Points\\\" NumberOfComponents=\\\"3\\\" format=\\\"appended\\\" RangeMin=\\\"1.1247554918\\\"         RangeMax=\\\"1.441639676\\\"          offset=\\\"4156\\\"                />\\n      </Points>\\n      <Verts>\\n        <DataArray type=\\\"Int64\\\" Name=\\\"connectivity\\\" format=\\\"appended\\\" RangeMin=\\\"\\\"                     RangeMax=\\\"\\\"                     offset=\\\"5916\\\"                />\\n        <DataArray type=\\\"Int64\\\" Name=\\\"offsets\\\" format=\\\"appended\\\" RangeMin=\\\"\\\"                     RangeMax=\\\"\\\"                     offset=\\\"5960\\\"                />\\n      </Verts>\\n      <Lines>\\n        <DataArray type=\\\"Int64\\\" Name=\\\"connectivity\\\" format=\\\"appended\\\" RangeMin=\\\"\\\"                     RangeMax=\\\"\\\"                     offset=\\\"6004\\\"                />\\n        <DataArray type=\\\"Int64\\\" Name=\\\"offsets\\\" format=\\\"appended\\\" RangeMin=\\\"\\\"                     RangeMax=\\\"\\\"                     offset=\\\"7792\\\"                />\\n      </Lines>\\n      <Strips>\\n        <DataArray type=\\\"Int64\\\" Name=\\\"connectivity\\\" format=\\\"appended\\\" RangeMin=\\\"\\\"                     RangeMax=\\\"\\\"                     offset=\\\"9324\\\"                />\\n        <DataArray type=\\\"Int64\\\" Name=\\\"offsets\\\" format=\\\"appended\\\" RangeMin=\\\"\\\"                     RangeMax=\\\"\\\"                     offset=\\\"9340\\\"                />\\n      </Strips>\\n      <Polys>\\n        <DataArray type=\\\"Int64\\\" Name=\\\"connectivity\\\" format=\\\"appended\\\" RangeMin=\\\"\\\"                     RangeMax=\\\"\\\"                     offset=\\\"9356\\\"                />\\n        <DataArray type=\\\"Int64\\\" Name=\\\"offsets\\\" format=\\\"appended\\\" RangeMin=\\\"\\\"                     RangeMax=\\\"\\\"                     offset=\\\"11892\\\"               />\\n      </Polys>\\n    </Piece>\\n  </PolyData>\\n  <AppendedData encoding=\\\"base64\\\">\\n   _AQAAAACAAADQOwAAJgcAAA==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eJzt18EJgDAQRFEPwRjF/tvNwW0gICxk31xeC/P78e0Kz3CQLONNsoyNJElu70OyjC/JMmb/C5Ik+b/ZPUFSr5NcdwJi/yjIAQAAAACAAABoJwAAOQAAAA==eJztzjEKACAMADEpiP3/ix3s5OJYkNyS9WKcosxykiTJ78zL7h+SJEmSJPl2kSRJkiTJdjfGtByNAQAAAACAAAAcOwAAPQQAAA==eJzt1n9InVUYB/AXRATn9N4/XLJmFnODiASLzZr5HogCE8U/hP2Ight3yES6swjblj9eaDUSajFbdGltkWmzZf4RYejue4LC/ri10V1/bU5Wm5tOWRvtnzGaPd773Ldz79durhzoeN6/Pjy8P855z3me81iWoyzvEovFYrFYLBaLxWKxWCwWi8VisVgsFovFYrFYLBaLxXfKn0x3quDGH59Id7S6U4VywlXprs/qUHkDt8Dta9rUlZ/K7XSPv7dbfTYWBDeFWtVbX3SBXzj2sjri6wFfrgupopUj4LVbm1T4YAw8eSKodnRPgce+el5dm50FD63Yovov5Kp0bzxTrx5qKQSXrq9Wfx4qAZ++plTO9gfBI09WqBv6EfAD95epm0cr4+56u1T13vtUxnhZ92o16KsFP77BpyJ7G8DF7dnK/9Kz4Ctnr9v+UwFwxbpxe1VfY9zNv47a3000Z4wXFQ/aw/tbwCsvv2/v/PgVcN9Am72rcBf4nska+42ZPeC8I0X27Np28PaL0argcAc4p6y26s0vO8F0OfPlAN0TSd7z2KVoJPD3e+aN7zxc5GaXtoNpzK4xfs80R9eYr2f6J67xfzx/Xzzofsj/0PSxc6PuNP9z07QubnJdTJ8cv+7+EguA+9qy9TbeA6a/3uDTTbxnTA8cWK39/lpw/juluoL3pOlDJWX61f5KMO15bex/z5Qj2sgXz5RT2sgvz5SDOpmD5Xlb9Mz53IxxynFt5Lvn104EdcHBKfC+rU36bHcMvL8upCfzR8BUo7RRrzwPhlp1+PMuMNVAbdRDz/Vr2vTNn8vBLVkdOvZposaaHqru1JGCMJhquDbqebqPz21809/Qsy8WhCPpDtG3NvfeAvPY3HRP0FweHQuCee7gBvpXv/t6wB/Qvx3OHwHzWoB57cAztNZDs7PgYtobuRdydbrraP+saCkEX11Xre2PSsC8V8G8t8HfUi5s7q8Ec+6AX6dcK/fXztky7Jyn3HxmbwOYcxm8g3L/aiwA9q0fd3/rbQRvotqSdbEZzLUIzLULzLUOvOpSjXtgZk98XoYdrqXgmqloZNtwB5jrM9iKX462GGyHz4J43HTrZLTqucQ7U8xnDZjPrOT4bWMuns17+OwD81kJvnFu1D4z0QymNbJ5jax9dF4/fCqQMc5nPbiReoPDiT2T4izqJU76EvuN+w2IP009yemjlXCPGefeBsy9EJhySnFOpZhyUHEOpriHerMfEjmbYspxxTmeYu794ub+MGP8D+otp/PiNceiuqS4Lv1jnHtXMNVAxTUw2Q9njNdRL/3uQLzGpniu974vJ16Tk/358UxxK5EDjpEDVjIHjPhC7/m3Zxdi8/3i5WVnCYxBnHld7gY7izDfhT7r3Kb/67xud/zmd+ebixIvKTvL0Mt9/HeTrSVo5394sb57J+5fDDuL8Z6/APuKTns=AQAAAACAAADQOwAAFgUAAA==eJztmG1o1VUcx8uHlKgpWnO2HsQwzGlbCXux8pwIcyAtpIe9ktCgi9GTEa6YZPc6p5bOWqXXudZVdzdcUb1zRUigkkJ3yxYWZkatXIppNSplWcvvufdz3gX1dv726sP4///3nN/5/j6ccxKJTt+Tu8JfcuEvUeB3q5e6xH/4/8Ilnb53d1HgoZpOn85MDJws7/SDjZMCD47p9LuWXRX40d4Ov3ZBceDxGzv84utL8u/O6/DDZ6YGfvqHrL+7uzRw9oWsv7LuusBfTMj6qlk3BL5nc7vv7psW+IGJ7b7uyemB56d2+uXnbwxcd2KH71o5I//8gh1+9qmbAs9u3e4nLJwZuPHHjH8mfXPgA2UZv6ZvVuDHlr3p64fKAv/U1ubTRXMC9+Te8HOKbgnc/HurbzmX570lrX5+T3ng05XbfNeGisDbF7X4e+feGvipxFZ/cF+ef34u7T+847bA3eu3+KNteV6yZbM/OZDnhp2v+91T5gbe885rfkZFnrvefzXy9/ua4zPjDr0S333v2Mvxm8+e3hR/6+xwUxzDx1c3xbHVl2+MY87WbIhzObz8pTjHbS0vxrnXH1wfa3L+r3WxVpmqdbGG/avWxtpWfdIYa37NtMa4Fr88vyau0fTjDXHtJtU2xDUt/Wx1XOvm2tUxA3sHUjEbf6RSMTOPz0zFLD30VTJm7O90MmZvxdJkzORAZTJm9YmSZMzwtZclY7YvJDpmXv/P9V8enx81ND5+Z9fkcfH7gxVj4+9Ovn90HM+8lZfGcVY+OOwYf9f+Px3zmlp9zjHfj775zVGH/U2/OupTXXvGUbf7qk456tl/+wlHnb9efNxR/+JMv2NdasZ861ivsk3HHOt4pzvqWN+xxUcc636k+EtHHkbdddiRk7e2fu7Iz3elfY5cpXOHHHlrf/tTRw73fNDryOeqsz2O3D78SJ6V5wOj86ycn+zLBVb+YfUFz6hfeFd9xDfVX/yW+o4xqB8Zm/qUMat/mYv6mjmq35m7PEBN5AdqJW9QQ/mE2soz1Fz+YS3kJdZIvmLt5DHWVH5jreU9MiAfkg15kszIn2RJXiVj8i3Zk4fJpPxMVuVtMiyfk+1/8z/OF+N8Mc4X43wxzhfj/PBuwflinC/G+WKcL8b5YpwvxvlinB+eLzhfjPPFOF+M88U4X4zzxThfjPPFOF+M88U4X4zzxThfjPPFOF+M88U4X4zzxThfjPPFOF+M88U4X4zzxTg/1LzgfDHOF+P88HzB+WKcL8b5YpwvxvlinC/G+WKcL8b5Ypwfal5wfqh5wflinC/G+WKcL8b5YpwvxvlinC/G+WKcz//VFzyvfuE76iO+r/7id9V3jEf9yDjVp4xf/cu81NfMV/1OHeQB6iM/UDd5g3rKJ9RZnqH+8g/rIi+xXvIV6yiPsb7yG+su75EH+ZCcyJPkR/4kV/IqeZNvyaE8TD7lZ3Irb5Nn+Zycy/PkH8b59Avv4nz6i9/C+fQjY8P59C9zwfn0O3PH+fiBWuF8fEJtcT7+YS1wPr5i7XA+fmOtcT4+JBs4H3+SJZyPb8kezsfPZBXn43Oy/X/3/3YusHOBnQvsXGDnAjsX2LnAzgV2LrBzgZ0LLp5zge3zbZ9v+3zb59s+3/b5ts+3fb7t822fb/v8kbfPN/+b/83/5n/z/8Xpf7vnsXseu+exex675xnZ9zzmefO8ed48b54fuZ63Oxy7w7E7HLvDsTuckXmH8w963afAAQAAAACAAAAQAAAADgAAAA==eJxjYIAARigNAAAYAAI=AQAAAACAAAAQAAAADgAAAA==eJxjZIAAJigNAAAwAAQ=AQAAAACAAABwLwAAKgUAAA==eJxd2tMSHYYCQNHYttnGts0itm3bSZO0sdWgsW3btm3bTh/umTvTtV/WT+xgQf5X8IAhAobEUBgaw2BYDIfhMQJGxEgYGaNgVIyG0TEGxsRYGBvjYFyMh/ExASbERJgYk2BSTIbJ8Sf8GVNgSkyFqTENpsV0mB4zYEbMhJkxC2bFbJgdc2BOzIW5MQ/mxXyYHwtgQSyEhbEIFsViWBxLYEkshaXxF/wVf8PfsQyWxXJYHitgRayElbEKVsVqWB1rYE2shbWxDtbFelgfG2BDbISNsQk2xWbYHFtgS2yFrbENtsV22B47YEfshJ2xC3bFbtgde2BP7IW9sQ/2xX74B/YPOCDgQPwT/8JBOBiH4FAchsNxBI7EUTgax+BYHIfjcQJOxEn4N07GKTgVp+E/OB1n4EychbNxDs7FeTgfF+BCXISLcQkuxWW4HFfgSlyFq3ENrsV1uB434EbchJtxC27Fbbgdd+BO3IW7cQ/uxX24Hw/gQTyEh/EIHsVjeBxP4Ek8hafxDJ7Fc3geL+BFvISX8QpexWt4HW/gTbyFt/EO3sV7eB8f4EN8hI/xCT7FZ/gcX+BLfIWv8Q2+xXf4Hj/gR/yEn/ELfsVv+B1/YJCg/zVowGABgwcMETBkwFABQ2MYDIvhMDxGwIgYCSNjFIyK0TA6xsCYGAtjYxyMi/EwPibAhJgIE2MSTIrJMDn+hD9jCkyJqTA1psG0mA7TYwbMiJkwM2bBrJgNs2MOzIm5MDfmwbyYD/NjASyIhbAwFsGiWAyLYwksiaWwNP6Cv+Jv+DuWwbJYDstjBayIlbAyVsGqWA2rYw2sibWwNtbBulgP62MDbIiNsDE2wabYDJtjC2yJrbA1tsG22A7bYwfsiJ2wM3bBrtgNu2MP7Im9sDf2wb7YD//A/jgABwb8M+BfOAgH4xAcisNwOI7AkTgKR+MYHIvjcDxOwIk4Cf/GyTgFp+I0/Aen4wycibNwNs7BuTgP5+MCXIiLcDEuwaW4DJfjClyJq3A1rsG1uA7X4wbciJtwM27BrbgNt+MO3Im7cDfuwb24D/fjATyIh/AwHsGjeAyP4wk8iafwNJ7Bs3gOz+MFvIiX8DJewat4Da/jDbyJt/A23sG7eA/v4wN8iI/wMT7Bp/gMn+MLfImv8DW+wbf4Dt/jB/yIn/AzfsGv+A2/4w8MEuy/BsVgGDxgiIAhMRSGxjAYFsNheIyAETESRsYoGBWjYXSMgTExFsbGOBgX42F8TIAJMREmxiSYFJNhcvwJf8YUmBJTYWpMg2kxHabHDJgRM2FmzIJZMRtmxxyYE3NhbsyDeTEf5scCWBALYWEsgkWxGBbHElgSS2Fp/AV/xd/wdyyDZbEclscKWBErYWWsglWxGlbHGlgTa2FtrIN1sR7WxwbYEBthY2yCTbEZNscW2BJbYWtsg22xHbbHDtgRO2Fn7IJdsRt2xx7YE3thb+yDfbEf/oH9Aw4IOBD/xL9wEA7GITgUh+FwHIEjcRSOxjE4FsfheJyAE3ES/o2TcQpOxWn4D07HGTgTZ+FsnINzcR7OxwW4EBfhYlyCS3EZLscVuBJX4Wpcg2txHa7HDbgRN+Fm3IJbcRtuxx24E3fhbtyDe3Ef7scDeBAP4WE8gkfxGB7HE3gST+FpPINn8Ryexwt4ES/hZbyCV/EaXscbeBNv4W28g3fxHt7HB/gQH+FjfIJP8Rk+xxf4El/ha3yDb/EdvscP+BE/4Wf8gl/xG37HH/j/oT5g0ID/AoSr/98=AQAAAACAAAC4FwAAagQAAA==eJw119FGIIoCQNE53U6SJEmSJEmSJEmSJEmSJEmSJEmSJEmSJEmSJEmSJEmSJEmSJEmSJEmSJEmSJBkjSc7DrLtf1jfsgF9/C2QQgxnCUIYxnBGMZBSjGcNYxjGeCUxkEpOZwlSmMZ0ZzGQWs5nDXOYxnwUsZBGLWcJSlrGcFaxkFatZw1rWsZ4NbGQTm9nCVraxnR3sZBe72cNe9rGfAxzkEIc5wlGOcZwTnOQUpznDWc5xngtc5BKXucJVrnGdG9zkFre5w13ucZ8HPOQRj3nCU57xnBe85BWvecNb3vGeD3zkE5/5wle+8Z0f/M0//OQXv/nDX//8JYCBDGIwQxjKMIYzgpGMYjRjGMs4xjOBiUxiMlOYyjSmM4OZzGI2c5jLPOazgIUsYjFLWMoylrOClaxiNWtYyzrWs4GNbGIzW9jKNrazg53sYjd72Ms+9nOAgxziMEc4yjGOc4KTnOI0ZzjLOc5zgYtc4jJXuMo1rnODm9ziNne4yz3u84CHPOIxT3jKM57zgpe84jVveMs73vOBj3ziM1/4yje+84O/+Yef/OI3f/grAAxkEIMZwlCGMZwRjGQUoxnDWMYxnglMZBKTmcJUpjGdGcxkFrOZw1zmMZ8FLGQRi1nCUpaxnBWsZBWrWcNa1rGeDWxkE5vZwla2sZ0d7GQXu9nDXvaxnwMc5BCHOcJRjnGcE5zkFKc5w1nOcZ4LXOQSl7nCVa5xnRvc5Ba3ucNd7nGfBzzkEY95wlOe8ZwXvOQVr3nDW97xng985BOf+cJXvvGdH/zNP/zkF7/5w1//+0sAAxnEYIYwlGEMZwQjGcVoxjCWcYxnAhOZxGSmMJVpTGcGM5nFbOYwl3nMZwELWcRilrCUZSxnBStZxWrWsJZ1rGcDG9nEZrawlW1sZwc72cVu9rCXfeznAAc5xGGOcJRjHOcEJznFac5wlnOc5wIXucRlrnCVa1znBje5xW3ucJd73OcBD3nEY57wlGc85wUvecVr3vCWd7znAx/5xGe+8JVvfOcHf/MPP/nFb/7w/8MfwEAGMZghDGUYwxnBSEYxmjGMZRzjmcBEJjGZKUxlGtOZwUxmMZs5zGUe81nAQhaxmCUsZRnLWcFKVrGaNaxlHevZwEY2sZktbGUb29nBTnaxmz3sZR/7OcBBDnGYIxzlGMc5wUlOcZoznOUc57nARS5xmStc5RrXucFNbnGbO9zlHvd5wEMe8ZgnPOUZz3nBS17xmje85R3v+cBHPvGZL3zlG9/5wd/8w09+8Zs//PXvXwIYyCAGM4ShDGM4IxjJKEYzhrGMYzwTmMgkJjOFqUxjOjOYySxmM4e5zGM+C1jIIhazhKUsYzkrWMkqVrOGtaxjPRvYyCY2s4WtbGM7O9jJLnazh73sYz8HOMghDnOEoxzjOCc4ySlOc4aznOM8F7jIJS5zhatc4zo3uMktbnOHu9zjPg94yCMe84SnPOM5L3jJK17zhre84z0f+MgnPvOFr3zjf+BXfLA=AAAAAACAAAAAAAAAAAAAAACAAAAAAAAAAQAAAACAAADgLgAAWgcAAA==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AQAAAACAAACgDwAAJwMAAA==eJwtxVOAEAYAANDuumzbtm3btm3btm3btm271Wq1Wq1Wq9VqtY977+eFDBEstMM5oqM4umM5rhM4sZM5pdM4vTM5q3M4t/O5oIu4uEu5rCu4squ5puu4vhu5qVu4tdu5o7u4u3u5rwd4sId5pMd4vCd5qmd4tud5oZd4uVd5rTd4s7d5p/d4vw/5qE/4tM/5oq/4um/5rh/4sZ/6uV/6td/6vT/6s7/6u386MCD4UA7rCI7saI7pOI7vRE7qFE7tdM7oLM7uXM7rAi7sYi7pMi7vSq7qGq7tem7oJm7uVm7rDu7sbu7pPu7vQR7qER7tcZ7oKZ7uWZ7rBV7sZV7pNV7vTd7qHd7tfT7oIz7uUz7rC77sa77pO77vR37iZ37hV37jd/7gT/7ib/7hgMDggxzG4R3JUR3DsR3PCZ3EyZ3KaZ3BmZ3NOZ3H+V3IRV3CpV3OFV3F1V3Ldd3Ajd3MLd3G7d3JXd3Dvd3PAz3Ewz3KYz3Bkz3NMz3H873IS73Cq73OG73F273Le33Ah33MJ33G533JV33Dt33PD/2Lf/Vv/t1/+E//5b/9j//1fw4RUg7tcI7oKI7uWI7rBE7sZE7pNE7vTM7qHM7tfC7oIi7uUi7rCq7saq7pOq7vRm7qFm7tdu7oLu7uXu7rAR7sYR7pMR7vSZ7qGZ7teV7oJV7uVV7rDd7sbd7pPd7vQz7qEz7tc77oK77uW77rB37sp37ul37tt37vj/7sr/7unw4MCj6UwzqCIzuaYzqO4zuRkzqFUzudMzqLszuX87qAC7uYS7qMy7uSq7qGa7ueG7qJm7uV27qDO7ube7qP+3uQh3qER3ucJ3qKp3uW53qBF3uZV3qN13uTt3qHd3ufD/qIj/uUz/qCL/uab/qO7/uRn/iZX/iV3/idP/iTv/ibfzggVPBBDuPwjuSojuHYjueETuLkTuW0zuDMzuaczuP8LuSiLuHSLueKruLqruW6buDGbuaWbuP27uSu7uHe7ueBHuLhHuWxnuDJnuaZnuP5XuSlXuHVXueN3uLt3uW9PuDDPuaTPuPzvuSrvuHbvueH/h9R1fmO\\n  </AppendedData>\\n</VTKFile>\\n\", \"color\": [1.0, 1.0, 1.0, 1.0], \"position\": [0.0, 0.0, 0.0], \"orientation\": [0.0, -0.0, 0.0]}, {\"shape\": \"<?xml version=\\\"1.0\\\"?>\\n<VTKFile type=\\\"PolyData\\\" version=\\\"0.1\\\" byte_order=\\\"LittleEndian\\\" header_type=\\\"UInt32\\\" compressor=\\\"vtkZLibDataCompressor\\\">\\n  <PolyData>\\n    <Piece NumberOfPoints=\\\"104\\\"                  NumberOfVerts=\\\"8\\\"                    NumberOfLines=\\\"36\\\"                   NumberOfStrips=\\\"0\\\"                    NumberOfPolys=\\\"12\\\"                  >\\n      <PointData Normals=\\\"Normals\\\">\\n        <DataArray type=\\\"Float32\\\" Name=\\\"Normals\\\" NumberOfComponents=\\\"3\\\" format=\\\"appended\\\" RangeMin=\\\"0\\\"                    RangeMax=\\\"1\\\"                    offset=\\\"0\\\"                   />\\n      </PointData>\\n      <CellData Normals=\\\"Normals\\\">\\n        <DataArray type=\\\"Int64\\\" IdType=\\\"1\\\" Name=\\\"SUBSHAPE_IDS\\\" format=\\\"appended\\\" RangeMin=\\\"4\\\"                    RangeMax=\\\"34\\\"                   offset=\\\"76\\\"                  />\\n        <DataArray type=\\\"Int64\\\" IdType=\\\"1\\\" Name=\\\"MESH_TYPES\\\" format=\\\"appended\\\" RangeMin=\\\"2\\\"                    RangeMax=\\\"7\\\"                    offset=\\\"200\\\"                 />\\n        <DataArray type=\\\"Float32\\\" Name=\\\"Normals\\\" NumberOfComponents=\\\"3\\\" format=\\\"appended\\\" RangeMin=\\\"1\\\"                    RangeMax=\\\"1\\\"                    offset=\\\"256\\\"                 />\\n      </CellData>\\n      <Points>\\n        <DataArray type=\\\"Float32\\\" Name=\\\"Points\\\" NumberOfComponents=\\\"3\\\" format=\\\"appended\\\" RangeMin=\\\"1.1842719539\\\"         RangeMax=\\\"2.1681558642\\\"         offset=\\\"340\\\"                 />\\n      </Points>\\n      <Verts>\\n        <DataArray type=\\\"Int64\\\" Name=\\\"connectivity\\\" format=\\\"appended\\\" RangeMin=\\\"\\\"                     RangeMax=\\\"\\\"                     offset=\\\"564\\\"                 />\\n        <DataArray type=\\\"Int64\\\" Name=\\\"offsets\\\" format=\\\"appended\\\" RangeMin=\\\"\\\"                     RangeMax=\\\"\\\"                     offset=\\\"628\\\"                 />\\n      </Verts>\\n      <Lines>\\n        <DataArray type=\\\"Int64\\\" Name=\\\"connectivity\\\" format=\\\"appended\\\" RangeMin=\\\"\\\"                     RangeMax=\\\"\\\"                     offset=\\\"692\\\"                 />\\n        <DataArray type=\\\"Int64\\\" Name=\\\"offsets\\\" format=\\\"appended\\\" RangeMin=\\\"\\\"                     RangeMax=\\\"\\\"                     offset=\\\"892\\\"                 />\\n      </Lines>\\n      <Strips>\\n        <DataArray type=\\\"Int64\\\" Name=\\\"connectivity\\\" format=\\\"appended\\\" RangeMin=\\\"\\\"                     RangeMax=\\\"\\\"                     offset=\\\"1028\\\"                />\\n        <DataArray type=\\\"Int64\\\" Name=\\\"offsets\\\" format=\\\"appended\\\" RangeMin=\\\"\\\"                     RangeMax=\\\"\\\"                     offset=\\\"1044\\\"                />\\n      </Strips>\\n      <Polys>\\n        <DataArray type=\\\"Int64\\\" Name=\\\"connectivity\\\" format=\\\"appended\\\" RangeMin=\\\"\\\"                     RangeMax=\\\"\\\"                     offset=\\\"1060\\\"                />\\n        <DataArray type=\\\"Int64\\\" Name=\\\"offsets\\\" format=\\\"appended\\\" RangeMin=\\\"\\\"                     RangeMax=\\\"\\\"                     offset=\\\"1180\\\"                />\\n      </Polys>\\n    </Piece>\\n  </PolyData>\\n  <AppendedData encoding=\\\"base64\\\">\\n   _AQAAAACAAADgBAAAJwAAAA==eJxjYBgFo2AUDG3QsJ94doM9khgRbFL1kOIWFDtI1EecmwCcOxfpAQAAAACAAADAAQAASQAAAA==eJyFzjcOgDAABEEKRAYRjGyCAPH/R1Kw/V4z5W2Z/auwwRYnnDHhhgXW2GGPIy4YMOKOB154Yy4O4iqe4iO+ovVaj/19eGUEfw==AQAAAACAAADAAQAAFgAAAA==eJxjYoAAJjJp1lEaL81OYxoA2KABGQ==AQAAAACAAACgAgAALAAAAA==eJxjYGiwZ4CDUfYoG8zfD2NA2Q0E1NsjqbfHYQYaQBZDYdtD9EDYAPtwL0k=AQAAAACAAADgBAAAlAAAAA==eJw7e8bHftbMSPuzZ3zszkLZ69wT7RgYDsDFYWyYeFraMbg4iA0SB+mFicPYMHFSzEdWj6wGm1587kE3H1kNul587kfWi6wGm15s5iC7Hz1M6BU+pMQjqeFGanqgNDwJpStKwh9bWGELB2zux2cvvnjBFZ64woHU9IMrDZAap6TGEalpHl+YYwtbfGGIbC8A5s4gFw==AQAAAACAAABAAAAAHgAAAA==eJxjYIAARijNBKWZoTQLlGaF0mxQmh1KAwAC4AAdAQAAAACAAABAAAAAHgAAAA==eJxjZIAAJijNDKVZoDQrlGaD0uxQmgNKAwAEAAAlAQAAAACAAABAAgAAgwAAAA==eJwtxcdCAQAAAFBHIwmRERIZZZYdpYyU0f//jYP3Li8YuAg57IivHPW1Y75x3AknfeuU075zxlnnnPe9Cy665AeX/eiKq35yzXU33PSzX9xy2x133XPfr37zwEOPPPbEU8/87rkX/vCnl/7yt1dee+Otf7zzr/+898FHn/zvMyt2DD0=AQAAAACAAAAgAQAAUgAAAA==eJwtxdEGgwAAAMDJJJNJkkkyM0kyk8kkk0n6/y/qobuXC06Hs0NHvjj21YlTZ859c+HSle9++OnajVt3fvnt3h8P/nr05J9n/7149eYdEH4FNQ==AAAAAACAAAAAAAAAAAAAAACAAAAAAAAAAQAAAACAAAAgAQAARwAAAA==eJxdybkVgDAQxFBKBMx9GJuz/w4IEIk2+W9HofiuwhID1uo9ttho79RnHHHQPqlvuOKiParvmDFp//8Dbzzx0v6ovyX5DOE=AQAAAACAAABgAAAAKAAAAA==eJxjZoAANijNCaV5oDQ/lBaC0qJQWgJKS0NpOSitCKVVoDQAIoAA6w==\\n  </AppendedData>\\n</VTKFile>\\n\", \"color\": [1.0, 1.0, 1.0, 1.0], \"position\": [0.0, 0.0, 0.0], \"orientation\": [0.0, -0.0, 0.0]}, {\"shape\": \"<?xml version=\\\"1.0\\\"?>\\n<VTKFile type=\\\"PolyData\\\" version=\\\"0.1\\\" byte_order=\\\"LittleEndian\\\" header_type=\\\"UInt32\\\" compressor=\\\"vtkZLibDataCompressor\\\">\\n  <PolyData>\\n    <Piece NumberOfPoints=\\\"104\\\"                  NumberOfVerts=\\\"8\\\"                    NumberOfLines=\\\"36\\\"                   NumberOfStrips=\\\"0\\\"                    NumberOfPolys=\\\"12\\\"                  >\\n      <PointData Normals=\\\"Normals\\\">\\n        <DataArray type=\\\"Float32\\\" Name=\\\"Normals\\\" NumberOfComponents=\\\"3\\\" format=\\\"appended\\\" RangeMin=\\\"0\\\"                    RangeMax=\\\"1\\\"                    offset=\\\"0\\\"                   />\\n      </PointData>\\n      <CellData Normals=\\\"Normals\\\">\\n        <DataArray type=\\\"Int64\\\" IdType=\\\"1\\\" Name=\\\"SUBSHAPE_IDS\\\" format=\\\"appended\\\" RangeMin=\\\"4\\\"                    RangeMax=\\\"34\\\"                   offset=\\\"76\\\"                  />\\n        <DataArray type=\\\"Int64\\\" IdType=\\\"1\\\" Name=\\\"MESH_TYPES\\\" format=\\\"appended\\\" RangeMin=\\\"2\\\"                    RangeMax=\\\"7\\\"                    offset=\\\"200\\\"                 />\\n        <DataArray type=\\\"Float32\\\" Name=\\\"Normals\\\" NumberOfComponents=\\\"3\\\" format=\\\"appended\\\" RangeMin=\\\"1\\\"                    RangeMax=\\\"1\\\"                    offset=\\\"256\\\"                 />\\n      </CellData>\\n      <Points>\\n        <DataArray type=\\\"Float32\\\" Name=\\\"Points\\\" NumberOfComponents=\\\"3\\\" format=\\\"appended\\\" RangeMin=\\\"1.1586630288\\\"         RangeMax=\\\"1.5687255707\\\"         offset=\\\"340\\\"                 />\\n      </Points>\\n      <Verts>\\n        <DataArray type=\\\"Int64\\\" Name=\\\"connectivity\\\" format=\\\"appended\\\" RangeMin=\\\"\\\"                     RangeMax=\\\"\\\"                     offset=\\\"564\\\"                 />\\n        <DataArray type=\\\"Int64\\\" Name=\\\"offsets\\\" format=\\\"appended\\\" RangeMin=\\\"\\\"                     RangeMax=\\\"\\\"                     offset=\\\"628\\\"                 />\\n      </Verts>\\n      <Lines>\\n        <DataArray type=\\\"Int64\\\" Name=\\\"connectivity\\\" format=\\\"appended\\\" RangeMin=\\\"\\\"                     RangeMax=\\\"\\\"                     offset=\\\"692\\\"                 />\\n        <DataArray type=\\\"Int64\\\" Name=\\\"offsets\\\" format=\\\"appended\\\" RangeMin=\\\"\\\"                     RangeMax=\\\"\\\"                     offset=\\\"892\\\"                 />\\n      </Lines>\\n      <Strips>\\n        <DataArray type=\\\"Int64\\\" Name=\\\"connectivity\\\" format=\\\"appended\\\" RangeMin=\\\"\\\"                     RangeMax=\\\"\\\"                     offset=\\\"1028\\\"                />\\n        <DataArray type=\\\"Int64\\\" Name=\\\"offsets\\\" format=\\\"appended\\\" RangeMin=\\\"\\\"                     RangeMax=\\\"\\\"                     offset=\\\"1044\\\"                />\\n      </Strips>\\n      <Polys>\\n        <DataArray type=\\\"Int64\\\" Name=\\\"connectivity\\\" format=\\\"appended\\\" RangeMin=\\\"\\\"                     RangeMax=\\\"\\\"                     offset=\\\"1060\\\"                />\\n        <DataArray type=\\\"Int64\\\" Name=\\\"offsets\\\" format=\\\"appended\\\" RangeMin=\\\"\\\"                     RangeMax=\\\"\\\"                     offset=\\\"1184\\\"                />\\n      </Polys>\\n    </Piece>\\n  </PolyData>\\n  <AppendedData encoding=\\\"base64\\\">\\n   _AQAAAACAAADgBAAAJgAAAA==eJxjYBgFo2AUDG3QYE88mxS1cP5+4tmkqCXXDmLd3mAPANwsF+k=AQAAAACAAADAAQAASQAAAA==eJyFzjcOgDAABEEKRAYRjGyCAPH/R1Kw/V4z5W2Z/auwwRYnnDHhhgXW2GGPIy4YMOKOB154Yy4O4iqe4iO+ovVaj/19eGUEfw==AQAAAACAAADAAQAAFgAAAA==eJxjYoAAJjJp1lEaL81OYxoA2KABGQ==AQAAAACAAACgAgAAKwAAAA==eJxjYGiwZ4CDUfYoG4XfgGBjE4Or348ktx9NDI0NUoOsDkM/irsA1fAvyQ==AQAAAACAAADgBAAAlAAAAA==eJxjYGiwnzUz0v7sGR87Bih7nXuiXVraMrg4jA0TP3uGBy4OYoPEQXph4jA2TJwU85HVI6vBphefe9DNR1aDrhef+5H1IqvBphebOcjuRw8TeoUPKfFIariRmh4oDU9C6YqS8McWVtjCAZv78dmLL15whSeucCA1/eBKA6TGKalxRGqaxxfm2MIWXxgi2wsAkdP/iA==AQAAAACAAABAAAAAHgAAAA==eJxjYIAARijNBKWZoTQLlGaF0mxQmh1KAwAC4AAdAQAAAACAAABAAAAAHgAAAA==eJxjZIAAJijNDKVZoDQrlGaD0uxQmgNKAwAEAAAlAQAAAACAAABAAgAAgwAAAA==eJwtxcdCAQAAAFBHIwmRERIZZZYdpYyU0f//jYP3Li8YuAg57IivHPW1Y75x3AknfeuU075zxlnnnPe9Cy665AeX/eiKq35yzXU33PSzX9xy2x133XPfr37zwEOPPPbEU8/87rkX/vCnl/7yt1dee+Otf7zzr/+898FHn/zvMyt2DD0=AQAAAACAAAAgAQAAUgAAAA==eJwtxdEGgwAAAMDJJJNJkkkyM0kyk8kkk0n6/y/qobuXC06Hs0NHvjj21YlTZ859c+HSle9++OnajVt3fvnt3h8P/nr05J9n/7149eYdEH4FNQ==AAAAAACAAAAAAAAAAAAAAACAAAAAAAAAAQAAAACAAAAgAQAASgAAAA==eJxdybkVgDAMBFGXiBFgwFzm7L8DAo+SVfLfjizUazCiyW4xYYe9dN8DZhxxku57xh0XXKX73vDAgqd03xfe+OIj/ZP/DyVZDOE=AQAAAACAAABgAAAAKAAAAA==eJxjZoAANijNCaV5oDQ/lBaC0qJQWgJKS0NpOSitCKVVoDQAIoAA6w==\\n  </AppendedData>\\n</VTKFile>\\n\", \"color\": [1.0, 1.0, 1.0, 1.0], \"position\": [0.0, 0.0, 0.0], \"orientation\": [0.0, -0.0, 0.0]}, {\"shape\": \"<?xml version=\\\"1.0\\\"?>\\n<VTKFile type=\\\"PolyData\\\" version=\\\"0.1\\\" byte_order=\\\"LittleEndian\\\" header_type=\\\"UInt32\\\" compressor=\\\"vtkZLibDataCompressor\\\">\\n  <PolyData>\\n    <Piece NumberOfPoints=\\\"104\\\"                  NumberOfVerts=\\\"8\\\"                    NumberOfLines=\\\"36\\\"                   NumberOfStrips=\\\"0\\\"                    NumberOfPolys=\\\"12\\\"                  >\\n      <PointData Normals=\\\"Normals\\\">\\n        <DataArray type=\\\"Float32\\\" Name=\\\"Normals\\\" NumberOfComponents=\\\"3\\\" format=\\\"appended\\\" RangeMin=\\\"0\\\"                    RangeMax=\\\"1\\\"                    offset=\\\"0\\\"                   />\\n      </PointData>\\n      <CellData Normals=\\\"Normals\\\">\\n        <DataArray type=\\\"Int64\\\" IdType=\\\"1\\\" Name=\\\"SUBSHAPE_IDS\\\" format=\\\"appended\\\" RangeMin=\\\"4\\\"                    RangeMax=\\\"34\\\"                   offset=\\\"76\\\"                  />\\n        <DataArray type=\\\"Int64\\\" IdType=\\\"1\\\" Name=\\\"MESH_TYPES\\\" format=\\\"appended\\\" RangeMin=\\\"2\\\"                    RangeMax=\\\"7\\\"                    offset=\\\"200\\\"                 />\\n        <DataArray type=\\\"Float32\\\" Name=\\\"Normals\\\" NumberOfComponents=\\\"3\\\" format=\\\"appended\\\" RangeMin=\\\"1\\\"                    RangeMax=\\\"1\\\"                    offset=\\\"256\\\"                 />\\n      </CellData>\\n      <Points>\\n        <DataArray type=\\\"Float32\\\" Name=\\\"Points\\\" NumberOfComponents=\\\"3\\\" format=\\\"appended\\\" RangeMin=\\\"0.80622576744\\\"        RangeMax=\\\"2.3070543988\\\"         offset=\\\"340\\\"                 />\\n      </Points>\\n      <Verts>\\n        <DataArray type=\\\"Int64\\\" Name=\\\"connectivity\\\" format=\\\"appended\\\" RangeMin=\\\"\\\"                     RangeMax=\\\"\\\"                     offset=\\\"552\\\"                 />\\n        <DataArray type=\\\"Int64\\\" Name=\\\"offsets\\\" format=\\\"appended\\\" RangeMin=\\\"\\\"                     RangeMax=\\\"\\\"                     offset=\\\"616\\\"                 />\\n      </Verts>\\n      <Lines>\\n        <DataArray type=\\\"Int64\\\" Name=\\\"connectivity\\\" format=\\\"appended\\\" RangeMin=\\\"\\\"                     RangeMax=\\\"\\\"                     offset=\\\"680\\\"                 />\\n        <DataArray type=\\\"Int64\\\" Name=\\\"offsets\\\" format=\\\"appended\\\" RangeMin=\\\"\\\"                     RangeMax=\\\"\\\"                     offset=\\\"880\\\"                 />\\n      </Lines>\\n      <Strips>\\n        <DataArray type=\\\"Int64\\\" Name=\\\"connectivity\\\" format=\\\"appended\\\" RangeMin=\\\"\\\"                     RangeMax=\\\"\\\"                     offset=\\\"1016\\\"                />\\n        <DataArray type=\\\"Int64\\\" Name=\\\"offsets\\\" format=\\\"appended\\\" RangeMin=\\\"\\\"                     RangeMax=\\\"\\\"                     offset=\\\"1032\\\"                />\\n      </Strips>\\n      <Polys>\\n        <DataArray type=\\\"Int64\\\" Name=\\\"connectivity\\\" format=\\\"appended\\\" RangeMin=\\\"\\\"                     RangeMax=\\\"\\\"                     offset=\\\"1048\\\"                />\\n        <DataArray type=\\\"Int64\\\" Name=\\\"offsets\\\" format=\\\"appended\\\" RangeMin=\\\"\\\"                     RangeMax=\\\"\\\"                     offset=\\\"1172\\\"                />\\n      </Polys>\\n    </Piece>\\n  </PolyData>\\n  <AppendedData encoding=\\\"base64\\\">\\n   _AQAAAACAAADgBAAAJgAAAA==eJxjYBgFo2AUDG3QYE88mxS1cP5+4tmkqCXXDmLd3mAPANwsF+k=AQAAAACAAADAAQAASQAAAA==eJyFzjcOgDAABEEKRAYRjGyCAPH/R1Kw/V4z5W2Z/auwwRYnnDHhhgXW2GGPIy4YMOKOB154Yy4O4iqe4iO+ovVaj/19eGUEfw==AQAAAACAAADAAQAAFgAAAA==eJxjYoAAJjJp1lEaL81OYxoA2KABGQ==AQAAAACAAACgAgAAKwAAAA==eJxjYGiwZ4CDUfYoG4XfgGBjE4Or348ktx9NDI0NUoOsDkM/irsA1fAvyQ==AQAAAACAAADgBAAAiwAAAA==eJy9klEKgDAMQ71T/7cLePTtywu5gZVQskoYKAglNF15jZlVs6se47On7u0svbVX99r18RfXZz316XXda9eV+diPPcyb7RPnY0/0ZvujF3uYl83B/SOTv/god1S5qXnY5fmVqx3+jBXjwPbP3s3usuK54qDmZ5UB9abqjdTMZ8wZ24whvnsD1T752A==AQAAAACAAABAAAAAHgAAAA==eJxjYIAARijNBKWZoTQLlGaF0mxQmh1KAwAC4AAdAQAAAACAAABAAAAAHgAAAA==eJxjZIAAJijNDKVZoDQrlGaD0uxQmgNKAwAEAAAlAQAAAACAAABAAgAAgwAAAA==eJwtxcdCAQAAAFBHIwmRERIZZZYdpYyU0f//jYP3Li8YuAg57IivHPW1Y75x3AknfeuU075zxlnnnPe9Cy665AeX/eiKq35yzXU33PSzX9xy2x133XPfr37zwEOPPPbEU8/87rkX/vCnl/7yt1dee+Otf7zzr/+898FHn/zvMyt2DD0=AQAAAACAAAAgAQAAUgAAAA==eJwtxdEGgwAAAMDJJJNJkkkyM0kyk8kkk0n6/y/qobuXC06Hs0NHvjj21YlTZ859c+HSle9++OnajVt3fvnt3h8P/nr05J9n/7149eYdEH4FNQ==AAAAAACAAAAAAAAAAAAAAACAAAAAAAAAAQAAAACAAAAgAQAASgAAAA==eJxdybkVgDAMBFGXiBFgwFzm7L8DAo+SVfLfjizUazCiyW4xYYe9dN8DZhxxku57xh0XXKX73vDAgqd03xfe+OIj/ZP/DyVZDOE=AQAAAACAAABgAAAAKAAAAA==eJxjZoAANijNCaV5oDQ/lBaC0qJQWgJKS0NpOSitCKVVoDQAIoAA6w==\\n  </AppendedData>\\n</VTKFile>\\n\", \"color\": [1.0, 1.0, 1.0, 1.0], \"position\": [0.0, 0.0, 0.0], \"orientation\": [0.0, -0.0, 0.0]}];\n    render(data, parent_element, 0.5);\n});\n",
      "text/plain": [
       "<cadquery.assembly.Assembly at 0x20716d28bd0>"
      ]
     },
     "execution_count": 158,
     "metadata": {},
     "output_type": "execute_result"
    }
   ],
   "source": [
    "tmp_assamble = Assembly()\n",
    "tmp_assamble.add(result, name=\"bot_CI\")\n",
    "tmp_assamble.add(signal_pad, name=\"signal_CI\")\n",
    "tmp_assamble.add(via, name=\"via\")\n",
    "tmp_assamble.add(top_electrode, name=\"top_electrode\")\n",
    "tmp_assamble.add(top_connector, name=\"top_connector\")\n",
    "tmp_assamble.add(DI, name=\"DI\")\n",
    "\n",
    "tmp_assamble.save(\"tmp_assamble.step\")"
   ]
  }
 ],
 "metadata": {
  "kernelspec": {
   "display_name": "Python 3",
   "language": "python",
   "name": "python3"
  },
  "language_info": {
   "codemirror_mode": {
    "name": "ipython",
    "version": 3
   },
   "file_extension": ".py",
   "mimetype": "text/x-python",
   "name": "python",
   "nbconvert_exporter": "python",
   "pygments_lexer": "ipython3",
   "version": "3.11.9"
  }
 },
 "nbformat": 4,
 "nbformat_minor": 2
}
